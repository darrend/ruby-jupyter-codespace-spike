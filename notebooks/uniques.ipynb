{
 "cells": [
  {
   "cell_type": "markdown",
   "metadata": {},
   "source": [
    "```markdown\n",
    "## Array of Data\n",
    "\n",
    "In this section, we will create and manipulate an array of data using Python. This will involve importing necessary libraries, creating arrays, and performing various operations on them.\n",
    "```"
   ]
  },
  {
   "cell_type": "code",
   "execution_count": 24,
   "metadata": {},
   "outputs": [],
   "source": [
    "content = '''\n",
    "25\n",
    "29\n",
    "30\n",
    "31\n",
    "33\n",
    "34\n",
    "26;28;29\n",
    "29;30;31\n",
    "30;31\n",
    "30;31;33\n",
    "30;31;33;34\n",
    "31;33\n",
    "31;33;34\n",
    "32;33;34\n",
    "33;34\n",
    "'''"
   ]
  },
  {
   "cell_type": "code",
   "execution_count": 25,
   "metadata": {},
   "outputs": [
    {
     "name": "stdout",
     "output_type": "stream",
     "text": [
      "[25, 26, 28, 29, 30, 31, 32, 33, 34]\n"
     ]
    }
   ],
   "source": [
    "# Parse the content string line by line, and each line by semicolon, generating a list of numbers\n",
    "parsed_content = [map(int, line.split(';')) for line in content.split()]\n",
    "\n",
    "# Flatten, sort, and get unique values from the parsed content\n",
    "unique_sorted_content = sorted(set(item for sublist in parsed_content for item in sublist))\n",
    "print(unique_sorted_content)\n"
   ]
  }
 ],
 "metadata": {
  "kernelspec": {
   "display_name": "Python 3",
   "language": "python",
   "name": "python3"
  },
  "language_info": {
   "codemirror_mode": {
    "name": "ipython",
    "version": 3
   },
   "file_extension": ".py",
   "mimetype": "text/x-python",
   "name": "python",
   "nbconvert_exporter": "python",
   "pygments_lexer": "ipython3",
   "version": "3.12.1"
  }
 },
 "nbformat": 4,
 "nbformat_minor": 2
}
