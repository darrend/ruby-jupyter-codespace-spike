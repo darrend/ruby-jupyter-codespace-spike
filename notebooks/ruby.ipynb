{
 "cells": [
  {
   "cell_type": "code",
   "execution_count": 27,
   "metadata": {},
   "outputs": [
    {
     "data": {
      "text/plain": [
       "\"25\\n29\\n30\\n31\\n33\\n34\\n26;28;29\\n29;30;31\\n30;31\\n30;31;33\\n30;31;33;34\\n31;33\\n31;33;34\\n32;33;34\\n33;34\""
      ]
     },
     "execution_count": 27,
     "metadata": {},
     "output_type": "execute_result"
    }
   ],
   "source": [
    "\"25\n",
    "29\n",
    "30\n",
    "31\n",
    "33\n",
    "34\n",
    "26;28;29\n",
    "29;30;31\n",
    "30;31\n",
    "30;31;33\n",
    "30;31;33;34\n",
    "31;33\n",
    "31;33;34\n",
    "32;33;34\n",
    "33;34\""
   ]
  },
  {
   "cell_type": "code",
   "execution_count": 28,
   "metadata": {},
   "outputs": [
    {
     "name": "stdout",
     "output_type": "stream",
     "text": [
      "[25, 26, 28, 29, 30, 31, 32, 33, 34]\n"
     ]
    }
   ],
   "source": [
    "# Split the string into lines and then split each line by semicolon, converting each element to an integer\n",
    "array_of_integers = _.split(\"\\n\").map { |line| line.split(';').map(&:to_i) }\n",
    "puts array_of_integers.flatten.uniq.sort.inspect"
   ]
  }
 ],
 "metadata": {
  "kernelspec": {
   "display_name": "Ruby 3 (iruby kernel)",
   "language": "ruby",
   "name": "ruby3"
  },
  "language_info": {
   "file_extension": ".rb",
   "mimetype": "application/x-ruby",
   "name": "ruby",
   "version": "3.3.4"
  }
 },
 "nbformat": 4,
 "nbformat_minor": 2
}
